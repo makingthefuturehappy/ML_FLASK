{
  "nbformat": 4,
  "nbformat_minor": 0,
  "metadata": {
    "kernelspec": {
      "display_name": "Python 3",
      "language": "python",
      "name": "python3"
    },
    "language_info": {
      "codemirror_mode": {
        "name": "ipython",
        "version": 3
      },
      "file_extension": ".py",
      "mimetype": "text/x-python",
      "name": "python",
      "nbconvert_exporter": "python",
      "pygments_lexer": "ipython3",
      "version": "3.6.6"
    },
    "colab": {
      "name": "NN Nucleus Detection",
      "provenance": [],
      "include_colab_link": true
    },
    "accelerator": "GPU"
  },
  "cells": [
    {
      "cell_type": "markdown",
      "metadata": {
        "id": "view-in-github",
        "colab_type": "text"
      },
      "source": [
        "<a href=\"https://colab.research.google.com/github/makingthefuturehappy/ML_FLASK/blob/master/NN_Nucleus_Detection.ipynb\" target=\"_parent\"><img src=\"https://colab.research.google.com/assets/colab-badge.svg\" alt=\"Open In Colab\"/></a>"
      ]
    },
    {
      "cell_type": "markdown",
      "metadata": {
        "id": "vCCBwRHaUzBQ"
      },
      "source": [
        "# 0. Intro\n",
        "### Основная идея: Делаем решение на базе U-Net"
      ]
    },
    {
      "cell_type": "code",
      "metadata": {
        "_cell_guid": "b1076dfc-b9ad-4769-8c92-a6c4dae69d19",
        "_kg_hide-input": true,
        "_uuid": "8f2839f25d086af736a60e9eeb907d3b93b6e0e5",
        "id": "vVIAxLy6UzBQ",
        "outputId": "9f1cecf0-3655-46ed-ba7c-c609ff29c92c",
        "colab": {
          "base_uri": "https://localhost:8080/",
          "height": 141
        }
      },
      "source": [
        "import os\n",
        "import sys\n",
        "import glob\n",
        "import random\n",
        "import datetime\n",
        "import numpy as np\n",
        "import pandas as pd\n",
        "from tqdm import tqdm\n",
        "import skimage.io                           #Used for imshow function\n",
        "import skimage.transform                    #Used for resize function\n",
        "from skimage.morphology import label        #Used for Run-Length-Encoding RLE to create final submission\n",
        "import matplotlib.pyplot as plt\n",
        "\n",
        "import tensorflow as tf\n",
        "import keras\n",
        "from keras.layers import Input, Conv2D, Lambda, MaxPooling2D, Conv2DTranspose, concatenate, Dropout, BatchNormalization\n",
        "from keras.models import Model, load_model\n",
        "from keras.preprocessing.image import ImageDataGenerator\n",
        "from keras.callbacks import EarlyStopping, ModelCheckpoint\n",
        "from keras.optimizers import Adam\n",
        "\n",
        "from google.colab import drive\n",
        "drive.mount('/content/drive')\n",
        "file_path = 'https://drive.google.com/drive/folders/1NMsapf6rK0bMR3MkfU8942nxQ3qAe9zo?usp=sharing'\n",
        "\n",
        "print('Python       :', sys.version.split('\\n')[0])\n",
        "print('Numpy        :', np.__version__)\n",
        "print('Skimage      :', skimage.__version__)\n",
        "print('Keras        :', keras.__version__)\n",
        "print('Tensorflow   :', tf.__version__)\n",
        "tf.test.gpu_device_name() ## check GPU\n",
        "!nvidia-smi -L ##GPU count and name"
      ],
      "execution_count": 22,
      "outputs": [
        {
          "output_type": "stream",
          "text": [
            "Drive already mounted at /content/drive; to attempt to forcibly remount, call drive.mount(\"/content/drive\", force_remount=True).\n",
            "Python       : 3.6.9 (default, Jul 17 2020, 12:50:27) \n",
            "Numpy        : 1.18.5\n",
            "Skimage      : 0.16.2\n",
            "Keras        : 2.4.3\n",
            "Tensorflow   : 2.3.0\n",
            "GPU 0: Tesla K80 (UUID: GPU-3f7a20ec-4dff-24c1-bb85-3f593241a72d)\n"
          ],
          "name": "stdout"
        }
      ]
    },
    {
      "cell_type": "code",
      "metadata": {
        "id": "VCVGGZATZtsq"
      },
      "source": [
        "# Common Variables and PATHs\n",
        "PATH = '/content/'\n",
        "PATH_GDRIVE = '/content/drive/My Drive/Colab Notebooks/NN Nucleus Detection/'\n",
        "\n",
        "TRAIN_PATH = 'train/'\n",
        "TEST_PATH = 'test/'\n",
        "\n",
        "IMG_WIDTH       = 256\n",
        "IMG_HEIGHT      = 256\n",
        "IMG_CHANNELS    = 3\n",
        "\n",
        "BATCH_SIZE      = 32\n",
        "NUM_EPOCHS      = 50\n",
        "# STEPS_PER_EPOCH = 600\n",
        "LR              = 0.001\n",
        "validation_split= 0.1"
      ],
      "execution_count": 3,
      "outputs": []
    },
    {
      "cell_type": "code",
      "metadata": {
        "id": "F1pDg1nXXPHN"
      },
      "source": [
        "#@title Notifications Setup\n",
        "%%capture\n",
        "import requests\n",
        "import json\n",
        "\n",
        "%cp -av '/content/drive/My Drive/Colab Notebooks/NN Nucleus Detection/token_telegram.json' '/content'\n",
        "!pip install gTTS #text to Speach lib for notifications\n",
        "\n",
        "from gtts import gTTS\n",
        "from IPython.display import Audio\n",
        "def Notification(text = 'task is done'):\n",
        "  tts = gTTS(text)\n",
        "  print(text)\n",
        "  tts.save('notification.wav')\n",
        "  sound_file = 'notification.wav'\n",
        "  return Audio(sound_file, autoplay=True)\n",
        "\n",
        "with open(PATH_GDRIVE + 'token_telegram.json', 'r') as credentials:\n",
        "  telegram = json.load(credentials)\n",
        "token = telegram['token']\n",
        "chat_id = telegram['chat_id']\n",
        "\n",
        "def send_telegram(text, token = token, chat_id = chat_id):  \n",
        "  url = \"https://api.telegram.org/bot\" + token\n",
        "  mess = 'https://api.telegram.org/bot' + token + '/sendMessage?chat_id=' + chat_id +'&text=' + text\n",
        "  response = requests.get(mess)\n",
        "  return response\n",
        "\n",
        "Notification('Setup is done.')"
      ],
      "execution_count": 4,
      "outputs": []
    },
    {
      "cell_type": "code",
      "metadata": {
        "_kg_hide-input": true,
        "id": "4Z3Ko6VwUzBX"
      },
      "source": [
        "# seed values\n",
        "SEED = 42\n",
        "random.seed = SEED\n",
        "np.random.seed(seed=SEED)"
      ],
      "execution_count": 5,
      "outputs": []
    },
    {
      "cell_type": "markdown",
      "metadata": {
        "id": "X4k4bp29UzBZ"
      },
      "source": [
        "# SETUP"
      ]
    },
    {
      "cell_type": "code",
      "metadata": {
        "id": "XRRazFo6UzBa"
      },
      "source": [
        "# SETUP\n",
        "PATH = '/content/'\n",
        "PATH_GDRIVE = '/content/drive/My Drive/Colab Notebooks/NN Nucleus Detection/'\n",
        "\n",
        "TRAIN_PATH = 'train/'\n",
        "TEST_PATH = 'test/'\n",
        "\n",
        "IMG_WIDTH       = 256\n",
        "IMG_HEIGHT      = 256\n",
        "IMG_CHANNELS    = 3\n",
        "\n",
        "BATCH_SIZE      = 32\n",
        "NUM_EPOCHS      = 50\n",
        "# STEPS_PER_EPOCH = 600\n",
        "LR              = 0.001\n",
        "validation_split= 0.1"
      ],
      "execution_count": 6,
      "outputs": []
    },
    {
      "cell_type": "markdown",
      "metadata": {
        "id": "9vwx9lrNUzBc"
      },
      "source": [
        "# 1. Load Data\n",
        "распаковываем данные"
      ]
    },
    {
      "cell_type": "code",
      "metadata": {
        "id": "vBTEgGX-UzBd",
        "outputId": "17427954-34bf-4bf2-d32b-30e48286cf21",
        "colab": {
          "base_uri": "https://localhost:8080/",
          "height": 70
        }
      },
      "source": [
        "# распаковываем данные\n",
        "import zipfile\n",
        "\n",
        "for name_data in ['test', 'train']:\n",
        "    tmp_zip = zipfile.ZipFile(PATH_GDRIVE + name_data+'.zip')\n",
        "    tmp_zip.extractall(name_data)\n",
        "    tmp_zip.close()\n",
        "\n",
        "%cp -av '/content/drive/My Drive/Colab Notebooks/NN Nucleus Detection/sample_submission.csv' '/content'\n",
        "%cp -av '/content/drive/My Drive/Colab Notebooks/NN Nucleus Detection/train_labels.csv' '/content'\n",
        "\n",
        "print('data uploaded...')"
      ],
      "execution_count": 8,
      "outputs": [
        {
          "output_type": "stream",
          "text": [
            "'/content/drive/My Drive/Colab Notebooks/NN Nucleus Detection/sample_submission.csv' -> '/content/sample_submission.csv'\n",
            "'/content/drive/My Drive/Colab Notebooks/NN Nucleus Detection/train_labels.csv' -> '/content/train_labels.csv'\n",
            "data uploaded...\n"
          ],
          "name": "stdout"
        }
      ]
    },
    {
      "cell_type": "markdown",
      "metadata": {
        "id": "j_UTnfarlX7P"
      },
      "source": [
        "# Data Analysis"
      ]
    },
    {
      "cell_type": "markdown",
      "metadata": {
        "id": "1tYfcrH9UzBf"
      },
      "source": [
        "Для начала глянем csv"
      ]
    },
    {
      "cell_type": "code",
      "metadata": {
        "id": "ffIYPefwUzBf",
        "outputId": "1a23092c-e1e5-477e-b152-51617b13d341",
        "colab": {
          "base_uri": "https://localhost:8080/",
          "height": 197
        }
      },
      "source": [
        "sample_submission = pd.read_csv(PATH_GDRIVE + 'sample_submission.csv')\n",
        "sample_submission.sample(5)"
      ],
      "execution_count": 22,
      "outputs": [
        {
          "output_type": "execute_result",
          "data": {
            "text/html": [
              "<div>\n",
              "<style scoped>\n",
              "    .dataframe tbody tr th:only-of-type {\n",
              "        vertical-align: middle;\n",
              "    }\n",
              "\n",
              "    .dataframe tbody tr th {\n",
              "        vertical-align: top;\n",
              "    }\n",
              "\n",
              "    .dataframe thead th {\n",
              "        text-align: right;\n",
              "    }\n",
              "</style>\n",
              "<table border=\"1\" class=\"dataframe\">\n",
              "  <thead>\n",
              "    <tr style=\"text-align: right;\">\n",
              "      <th></th>\n",
              "      <th>ImageId</th>\n",
              "      <th>EncodedPixels</th>\n",
              "    </tr>\n",
              "  </thead>\n",
              "  <tbody>\n",
              "    <tr>\n",
              "      <th>53</th>\n",
              "      <td>d616d323a9eeb9da1b66f8d5df671d63c092c9919cb2c0...</td>\n",
              "      <td>1 1</td>\n",
              "    </tr>\n",
              "    <tr>\n",
              "      <th>60</th>\n",
              "      <td>eea70a7948d25a9a791dbcb39228af4ea4049fe5ebdee9...</td>\n",
              "      <td>1 1</td>\n",
              "    </tr>\n",
              "    <tr>\n",
              "      <th>0</th>\n",
              "      <td>0114f484a16c152baa2d82fdd43740880a762c93f436c8...</td>\n",
              "      <td>1 1</td>\n",
              "    </tr>\n",
              "    <tr>\n",
              "      <th>45</th>\n",
              "      <td>a4816cc1fb76cb3c5e481186833fc0ae9cf426a1406a26...</td>\n",
              "      <td>1 1</td>\n",
              "    </tr>\n",
              "    <tr>\n",
              "      <th>5</th>\n",
              "      <td>0f1f896d9ae5a04752d3239c690402c022db4d72c0d2c0...</td>\n",
              "      <td>1 1</td>\n",
              "    </tr>\n",
              "  </tbody>\n",
              "</table>\n",
              "</div>"
            ],
            "text/plain": [
              "                                              ImageId EncodedPixels\n",
              "53  d616d323a9eeb9da1b66f8d5df671d63c092c9919cb2c0...           1 1\n",
              "60  eea70a7948d25a9a791dbcb39228af4ea4049fe5ebdee9...           1 1\n",
              "0   0114f484a16c152baa2d82fdd43740880a762c93f436c8...           1 1\n",
              "45  a4816cc1fb76cb3c5e481186833fc0ae9cf426a1406a26...           1 1\n",
              "5   0f1f896d9ae5a04752d3239c690402c022db4d72c0d2c0...           1 1"
            ]
          },
          "metadata": {
            "tags": []
          },
          "execution_count": 22
        }
      ]
    },
    {
      "cell_type": "code",
      "metadata": {
        "id": "-2SBAoDBUzBi",
        "outputId": "02a3863b-595a-4d67-aa17-0955aacd2ef5",
        "colab": {
          "base_uri": "https://localhost:8080/",
          "height": 34
        }
      },
      "source": [
        "len(sample_submission)"
      ],
      "execution_count": 23,
      "outputs": [
        {
          "output_type": "execute_result",
          "data": {
            "text/plain": [
              "65"
            ]
          },
          "metadata": {
            "tags": []
          },
          "execution_count": 23
        }
      ]
    },
    {
      "cell_type": "markdown",
      "metadata": {
        "id": "GWn1pWG0UzBl"
      },
      "source": [
        "Не кажеться странным, что нам предлагают на тест только 65 уникальных картинок? )  \n",
        "посмотрим что в трейне..."
      ]
    },
    {
      "cell_type": "code",
      "metadata": {
        "id": "fK-T3PF8UzBl",
        "outputId": "55dc85e8-8211-4e08-e848-289e1ef2d910",
        "colab": {
          "base_uri": "https://localhost:8080/",
          "height": 347
        }
      },
      "source": [
        "train_labels = pd.read_csv(PATH_GDRIVE + 'train_labels.csv')\n",
        "train_labels.sample(10)"
      ],
      "execution_count": 24,
      "outputs": [
        {
          "output_type": "execute_result",
          "data": {
            "text/html": [
              "<div>\n",
              "<style scoped>\n",
              "    .dataframe tbody tr th:only-of-type {\n",
              "        vertical-align: middle;\n",
              "    }\n",
              "\n",
              "    .dataframe tbody tr th {\n",
              "        vertical-align: top;\n",
              "    }\n",
              "\n",
              "    .dataframe thead th {\n",
              "        text-align: right;\n",
              "    }\n",
              "</style>\n",
              "<table border=\"1\" class=\"dataframe\">\n",
              "  <thead>\n",
              "    <tr style=\"text-align: right;\">\n",
              "      <th></th>\n",
              "      <th>ImageId</th>\n",
              "      <th>EncodedPixels</th>\n",
              "    </tr>\n",
              "  </thead>\n",
              "  <tbody>\n",
              "    <tr>\n",
              "      <th>16141</th>\n",
              "      <td>8b77284d6f37ab3fc826139ebadaec3b9d81c552fe525c...</td>\n",
              "      <td>55530 7 55784 12 56039 14 56294 16 56549 18 56...</td>\n",
              "    </tr>\n",
              "    <tr>\n",
              "      <th>27194</th>\n",
              "      <td>ea94ba4b01d1bd5f7768d10e0ac547743791033df545c7...</td>\n",
              "      <td>12295 8 12550 11 12805 14 13060 17 13316 18 13...</td>\n",
              "    </tr>\n",
              "    <tr>\n",
              "      <th>24216</th>\n",
              "      <td>cbca32daaae36a872a11da4eaff65d1068ff3f154eedc9...</td>\n",
              "      <td>37435 5 37690 7 37945 8 38201 8 38457 8 38713 ...</td>\n",
              "    </tr>\n",
              "    <tr>\n",
              "      <th>25304</th>\n",
              "      <td>da31f2aa8601afec5c45180a2c448cb9c4a8ec7b35e751...</td>\n",
              "      <td>18647 6 19166 8 19686 9 20206 9 20726 8 21247 ...</td>\n",
              "    </tr>\n",
              "    <tr>\n",
              "      <th>21273</th>\n",
              "      <td>b1f23c4d27afed8af7b6b64793a3760bfea31b65f582d4...</td>\n",
              "      <td>331026 5 331543 9 332062 12 332580 15 333099 1...</td>\n",
              "    </tr>\n",
              "    <tr>\n",
              "      <th>9796</th>\n",
              "      <td>538b7673d507014d83af238876e03617396b70fe27f525...</td>\n",
              "      <td>127462 4 128064 8 128666 12 129268 16 129870 2...</td>\n",
              "    </tr>\n",
              "    <tr>\n",
              "      <th>3410</th>\n",
              "      <td>1b44d22643830cd4f23c9deadb0bd499fb392fb2cd9526...</td>\n",
              "      <td>431986 4 433009 5 434033 5 435057 6 436081 6 4...</td>\n",
              "    </tr>\n",
              "    <tr>\n",
              "      <th>16126</th>\n",
              "      <td>8aa1a883f61f0bb5af3d3d60acaaf33af45ef4fbffaac1...</td>\n",
              "      <td>59092 3 59345 8 59600 11 59856 11 60112 11 603...</td>\n",
              "    </tr>\n",
              "    <tr>\n",
              "      <th>9577</th>\n",
              "      <td>4e23ecf65040f86420e0201134e538951acdeda84fbb27...</td>\n",
              "      <td>55041 2 55297 4 55553 5 55809 6 56065 6 56321 ...</td>\n",
              "    </tr>\n",
              "    <tr>\n",
              "      <th>27756</th>\n",
              "      <td>ee927e8255096971ddae1bd975cf80c4ad7c847c82d0b5...</td>\n",
              "      <td>23588 3 23843 5 24099 5 24355 5 24612 3</td>\n",
              "    </tr>\n",
              "  </tbody>\n",
              "</table>\n",
              "</div>"
            ],
            "text/plain": [
              "                                                 ImageId                                      EncodedPixels\n",
              "16141  8b77284d6f37ab3fc826139ebadaec3b9d81c552fe525c...  55530 7 55784 12 56039 14 56294 16 56549 18 56...\n",
              "27194  ea94ba4b01d1bd5f7768d10e0ac547743791033df545c7...  12295 8 12550 11 12805 14 13060 17 13316 18 13...\n",
              "24216  cbca32daaae36a872a11da4eaff65d1068ff3f154eedc9...  37435 5 37690 7 37945 8 38201 8 38457 8 38713 ...\n",
              "25304  da31f2aa8601afec5c45180a2c448cb9c4a8ec7b35e751...  18647 6 19166 8 19686 9 20206 9 20726 8 21247 ...\n",
              "21273  b1f23c4d27afed8af7b6b64793a3760bfea31b65f582d4...  331026 5 331543 9 332062 12 332580 15 333099 1...\n",
              "9796   538b7673d507014d83af238876e03617396b70fe27f525...  127462 4 128064 8 128666 12 129268 16 129870 2...\n",
              "3410   1b44d22643830cd4f23c9deadb0bd499fb392fb2cd9526...  431986 4 433009 5 434033 5 435057 6 436081 6 4...\n",
              "16126  8aa1a883f61f0bb5af3d3d60acaaf33af45ef4fbffaac1...  59092 3 59345 8 59600 11 59856 11 60112 11 603...\n",
              "9577   4e23ecf65040f86420e0201134e538951acdeda84fbb27...  55041 2 55297 4 55553 5 55809 6 56065 6 56321 ...\n",
              "27756  ee927e8255096971ddae1bd975cf80c4ad7c847c82d0b5...            23588 3 23843 5 24099 5 24355 5 24612 3"
            ]
          },
          "metadata": {
            "tags": []
          },
          "execution_count": 24
        }
      ]
    },
    {
      "cell_type": "code",
      "metadata": {
        "id": "hfwql1SfUzBo",
        "outputId": "49b24fb5-0844-4444-ef1d-66e9074f45d0",
        "colab": {
          "base_uri": "https://localhost:8080/",
          "height": 34
        }
      },
      "source": [
        "len(train_labels)"
      ],
      "execution_count": 26,
      "outputs": [
        {
          "output_type": "execute_result",
          "data": {
            "text/plain": [
              "29461"
            ]
          },
          "metadata": {
            "tags": []
          },
          "execution_count": 26
        }
      ]
    },
    {
      "cell_type": "markdown",
      "metadata": {
        "id": "TGIz6pCiUzBq"
      },
      "source": [
        "в описании датасета написано что \"Каждая маска содержит одно ядро.\"  \n",
        "А из всех 29к примеров, сколько у нас уникальных изображений для тренировки на самом деле?"
      ]
    },
    {
      "cell_type": "code",
      "metadata": {
        "id": "WllPadfBUzBq",
        "outputId": "669870c9-1bb8-48f4-dd66-214f7ade550c",
        "colab": {
          "base_uri": "https://localhost:8080/",
          "height": 34
        }
      },
      "source": [
        "len(train_labels) - train_labels.ImageId.duplicated().sum()"
      ],
      "execution_count": 27,
      "outputs": [
        {
          "output_type": "execute_result",
          "data": {
            "text/plain": [
              "670"
            ]
          },
          "metadata": {
            "tags": []
          },
          "execution_count": 27
        }
      ]
    },
    {
      "cell_type": "markdown",
      "metadata": {
        "id": "LB1HmI4yUzBs"
      },
      "source": [
        "Сверяем по папкам"
      ]
    },
    {
      "cell_type": "code",
      "metadata": {
        "_kg_hide-input": true,
        "id": "3j_6-u4bUzBt",
        "outputId": "07cf01cf-2032-436f-b48b-2b87a191557d",
        "colab": {
          "base_uri": "https://localhost:8080/",
          "height": 70
        }
      },
      "source": [
        "# Get train and test IDs\n",
        "train_ids = next(os.walk(TRAIN_PATH))\n",
        "test_ids = next(os.walk(TEST_PATH))\n",
        "\n",
        "mask_count = 0\n",
        "for train_id in train_ids[1]:\n",
        "    masks = next(os.walk(TRAIN_PATH + train_id + '/masks/'))[2]\n",
        "    mask_count += len(masks)\n",
        "\n",
        "print('There are {} images.'.format(len(train_ids[1])))\n",
        "print('There are {} masks.'.format(mask_count))\n",
        "print('Approximately {} masks per image.'.format(mask_count // len(train_ids[1])))"
      ],
      "execution_count": 28,
      "outputs": [
        {
          "output_type": "stream",
          "text": [
            "There are 670 images.\n",
            "There are 29461 masks.\n",
            "Approximately 43 masks per image.\n"
          ],
          "name": "stdout"
        }
      ]
    },
    {
      "cell_type": "markdown",
      "metadata": {
        "id": "3ZxG6xztUzBw"
      },
      "source": [
        "Вот все и встало на свои места, Итого 65 изображений на тесте и 670 на трейне.  \n",
        "Давай подгрузим и посмотрим эти картинки"
      ]
    },
    {
      "cell_type": "markdown",
      "metadata": {
        "id": "vBnoUqC0li0i"
      },
      "source": [
        "#Data Preparation"
      ]
    },
    {
      "cell_type": "code",
      "metadata": {
        "_kg_hide-input": true,
        "id": "biYsFAU-UzBw"
      },
      "source": [
        "# для подгрузки данных будем использовать удобную либу skimage\n",
        "def get_X_data(path, output_shape=(None, None)):\n",
        "    '''\n",
        "    Loads images from path/{id}/images/{id}.png into a numpy array\n",
        "    '''\n",
        "    img_paths = ['{0}/{1}/images/{1}.png'.format(path, id) for id in os.listdir(path)]\n",
        "    X_data = np.array([skimage.transform.resize(skimage.io.imread(path)[:,:,:3], \n",
        "                                                output_shape=output_shape, \n",
        "                                                mode='constant', \n",
        "                                                preserve_range=True) for path in img_paths], dtype=np.uint8)  #take only 3 channels/bands\n",
        "    \n",
        "    return X_data"
      ],
      "execution_count": 9,
      "outputs": []
    },
    {
      "cell_type": "code",
      "metadata": {
        "id": "WoXaMHn_UzBz",
        "outputId": "85497152-7671-444f-b2cd-fbde7ea20e18",
        "colab": {
          "base_uri": "https://localhost:8080/",
          "height": 70
        }
      },
      "source": [
        "%%time\n",
        "# Get training data\n",
        "X_train = get_X_data(TRAIN_PATH, output_shape=(IMG_HEIGHT,IMG_WIDTH))\n",
        "print(X_train.shape, X_train.dtype)"
      ],
      "execution_count": 10,
      "outputs": [
        {
          "output_type": "stream",
          "text": [
            "(670, 256, 256, 3) uint8\n",
            "CPU times: user 20.2 s, sys: 15.7 s, total: 35.8 s\n",
            "Wall time: 18.7 s\n"
          ],
          "name": "stdout"
        }
      ]
    },
    {
      "cell_type": "code",
      "metadata": {
        "_kg_hide-input": true,
        "id": "Pmjv8oTLUzB1"
      },
      "source": [
        "def get_Y_data(path, output_shape=(None, None)):\n",
        "    '''\n",
        "    Loads and concatenates images from path/{id}/masks/{id}.png into a numpy array\n",
        "    '''\n",
        "    img_paths = [glob.glob('{0}/{1}/masks/*.png'.format(path, id)) for id in os.listdir(path)]\n",
        "    \n",
        "    Y_data = []\n",
        "    for i, img_masks in enumerate(img_paths):  #loop through each individual nuclei for an image and combine them together\n",
        "        masks = skimage.io.imread_collection(img_masks).concatenate()  #masks.shape = (num_masks, img_height, img_width)\n",
        "        mask = np.max(masks, axis=0)                                   #mask.shape = (img_height, img_width)\n",
        "        mask = skimage.transform.resize(mask, output_shape=output_shape+(1,), mode='constant', preserve_range=True)  #need to add an extra dimension so mask.shape = (img_height, img_width, 1)\n",
        "        Y_data.append(mask)\n",
        "    Y_data = np.array(Y_data, dtype=np.bool)\n",
        "    \n",
        "    return Y_data"
      ],
      "execution_count": 11,
      "outputs": []
    },
    {
      "cell_type": "code",
      "metadata": {
        "id": "tZJC1CH4UzB4",
        "outputId": "33b6e6fd-6396-4c88-af13-4c4b5a5c2de7",
        "colab": {
          "base_uri": "https://localhost:8080/",
          "height": 70
        }
      },
      "source": [
        "%%time\n",
        "# Get training data labels\n",
        "Y_train = get_Y_data(TRAIN_PATH, output_shape=(IMG_HEIGHT,IMG_WIDTH))\n",
        "print(Y_train.shape, Y_train.dtype)"
      ],
      "execution_count": 12,
      "outputs": [
        {
          "output_type": "stream",
          "text": [
            "(670, 256, 256, 1) bool\n",
            "CPU times: user 1min 10s, sys: 37.4 s, total: 1min 48s\n",
            "Wall time: 1min 9s\n"
          ],
          "name": "stdout"
        }
      ]
    },
    {
      "cell_type": "code",
      "metadata": {
        "_kg_hide-input": true,
        "id": "bfsn4hOlUzB7"
      },
      "source": [
        "# Check training data\n",
        "f, axarr = plt.subplots(2,4)\n",
        "f.set_size_inches(20,10)\n",
        "ix = random.randint(0, len(train_ids[1]))\n",
        "axarr[0,0].imshow(X_train[ix])\n",
        "axarr[0,1].imshow(np.squeeze(Y_train[ix]))\n",
        "\n",
        "axarr[0,2].imshow(X_train[ix])\n",
        "axarr[0,3].imshow(np.squeeze(Y_train[ix]))\n",
        "\n",
        "axarr[1,0].imshow(X_train[ix])\n",
        "axarr[1,1].imshow(np.squeeze(Y_train[ix]))\n",
        "\n",
        "axarr[1,2].imshow(X_train[ix])\n",
        "axarr[1,3].imshow(np.squeeze(Y_train[ix]))\n",
        "\n",
        "plt.show()"
      ],
      "execution_count": null,
      "outputs": []
    },
    {
      "cell_type": "markdown",
      "metadata": {
        "id": "SkkdfI01m6yI"
      },
      "source": [
        "#TensorBoard Setup"
      ]
    },
    {
      "cell_type": "code",
      "metadata": {
        "id": "gOUlDzv7nAZf"
      },
      "source": [
        "%load_ext tensorboard\n",
        "\n",
        "# %reload_ext tensorboard\n",
        "!rm -rf ./logs/ #clean existing logs\n",
        "\n",
        "logdir = \"logs/scalars/\" + datetime.now().strftime(\"%Y%m%d-%H%M%S\")\n",
        "metrics_callback = tf.keras.callbacks.TensorBoard(logdir)\n",
        "\n",
        "%tensorboard --logdir logs"
      ],
      "execution_count": null,
      "outputs": []
    },
    {
      "cell_type": "markdown",
      "metadata": {
        "id": "4BkioCHPUzB9"
      },
      "source": [
        "# 2. Build model"
      ]
    },
    {
      "cell_type": "markdown",
      "metadata": {
        "id": "Ps1MoLfQUzB9"
      },
      "source": [
        "> Построим U-Net model, по мотивам [U-Net: Convolutional Networks for Biomedical Image Segmentation](https://arxiv.org/pdf/1505.04597.pdf) и близко к этому [репозиторию](https://github.com/jocicmarko/ultrasound-nerve-segmentation) из Kaggle Ultrasound Nerve Segmentation competition.\n",
        "\n",
        "![](https://lmb.informatik.uni-freiburg.de/people/ronneber/u-net/u-net-architecture.png)"
      ]
    },
    {
      "cell_type": "code",
      "metadata": {
        "id": "6SJKswl4UzB-"
      },
      "source": [
        "# Build U-Net model\n",
        "inputs = Input((IMG_HEIGHT, IMG_WIDTH, IMG_CHANNELS))\n",
        "s = Lambda(lambda x: x / 255) (inputs)\n",
        "\n",
        "c1 = Conv2D(16, (3, 3), activation='elu', kernel_initializer='he_normal', padding='same') (s)\n",
        "c1 = Dropout(0.1) (c1)\n",
        "c1 = Conv2D(16, (3, 3), activation='elu', kernel_initializer='he_normal', padding='same') (c1)\n",
        "p1 = MaxPooling2D((2, 2)) (c1)\n",
        "\n",
        "c2 = Conv2D(32, (3, 3), activation='elu', kernel_initializer='he_normal', padding='same') (p1)\n",
        "c2 = Dropout(0.1) (c2)\n",
        "c2 = Conv2D(32, (3, 3), activation='elu', kernel_initializer='he_normal', padding='same') (c2)\n",
        "p2 = MaxPooling2D((2, 2)) (c2)\n",
        "\n",
        "c3 = Conv2D(64, (3, 3), activation='elu', kernel_initializer='he_normal', padding='same') (p2)\n",
        "c3 = Dropout(0.2) (c3)\n",
        "c3 = Conv2D(64, (3, 3), activation='elu', kernel_initializer='he_normal', padding='same') (c3)\n",
        "p3 = MaxPooling2D((2, 2)) (c3)\n",
        "\n",
        "c4 = Conv2D(128, (3, 3), activation='elu', kernel_initializer='he_normal', padding='same') (p3)\n",
        "c4 = Dropout(0.2) (c4)\n",
        "c4 = Conv2D(128, (3, 3), activation='elu', kernel_initializer='he_normal', padding='same') (c4)\n",
        "p4 = MaxPooling2D(pool_size=(2, 2)) (c4)\n",
        "\n",
        "c5 = Conv2D(256, (3, 3), activation='elu', kernel_initializer='he_normal', padding='same') (p4)\n",
        "#c5 = BatchNormalization() (c5)\n",
        "c5 = Dropout(0.3) (c5)\n",
        "c5 = Conv2D(256, (3, 3), activation='elu', kernel_initializer='he_normal', padding='same') (c5)\n",
        "\n",
        "u6 = Conv2DTranspose(128, (2, 2), strides=(2, 2), padding='same') (c5)\n",
        "u6 = concatenate([u6, c4])\n",
        "c6 = Conv2D(128, (3, 3), activation='elu', kernel_initializer='he_normal', padding='same') (u6)\n",
        "c6 = Dropout(0.2) (c6)\n",
        "c6 = Conv2D(128, (3, 3), activation='elu', kernel_initializer='he_normal', padding='same') (c6)\n",
        "\n",
        "u7 = Conv2DTranspose(64, (2, 2), strides=(2, 2), padding='same') (c6)\n",
        "u7 = concatenate([u7, c3])\n",
        "c7 = Conv2D(64, (3, 3), activation='elu', kernel_initializer='he_normal', padding='same') (u7)\n",
        "c7 = Dropout(0.2) (c7)\n",
        "c7 = Conv2D(64, (3, 3), activation='elu', kernel_initializer='he_normal', padding='same') (c7)\n",
        "\n",
        "u8 = Conv2DTranspose(32, (2, 2), strides=(2, 2), padding='same') (c7)\n",
        "u8 = concatenate([u8, c2])\n",
        "c8 = Conv2D(32, (3, 3), activation='elu', kernel_initializer='he_normal', padding='same') (u8)\n",
        "c8 = Dropout(0.1) (c8)\n",
        "c8 = Conv2D(32, (3, 3), activation='elu', kernel_initializer='he_normal', padding='same') (c8)\n",
        "\n",
        "u9 = Conv2DTranspose(16, (2, 2), strides=(2, 2), padding='same') (c8)\n",
        "u9 = concatenate([u9, c1], axis=3)\n",
        "c9 = Conv2D(16, (3, 3), activation='elu', kernel_initializer='he_normal', padding='same') (u9)\n",
        "c9 = Dropout(0.1) (c9)\n",
        "c9 = Conv2D(16, (3, 3), activation='elu', kernel_initializer='he_normal', padding='same') (c9)\n",
        "\n",
        "outputs = Conv2D(1, (1, 1), activation='sigmoid') (c9)\n",
        "\n",
        "model = Model(inputs=[inputs], outputs=[outputs])\n",
        "optimizer = Adam(lr=LR,)\n",
        "model.compile(optimizer=optimizer, loss='binary_crossentropy',)\n",
        "# model.summary()"
      ],
      "execution_count": 15,
      "outputs": []
    },
    {
      "cell_type": "code",
      "metadata": {
        "id": "4OsXitiZUzCA",
        "outputId": "ac9ef51d-1798-41fe-b03c-798c9745af26",
        "colab": {
          "base_uri": "https://localhost:8080/",
          "height": 1000
        }
      },
      "source": [
        "# Fit model\n",
        "history = model.fit(X_train, Y_train, \n",
        "                    validation_split=validation_split, \n",
        "                    batch_size=BATCH_SIZE, \n",
        "                    epochs=NUM_EPOCHS, \n",
        "                    verbose=1,\n",
        "                    # callbacks = [metrics_callback,\n",
        "                #  model_checkpoint_save,\n",
        "                #  EarlyStopping,\n",
        "                #  Reduce_LR,\n",
        "                #  CustomCallback()\n",
        "                #  ]\n",
        "                    )"
      ],
      "execution_count": 17,
      "outputs": [
        {
          "output_type": "stream",
          "text": [
            "Epoch 1/50\n",
            "19/19 [==============================] - 11s 572ms/step - loss: 0.1377 - val_loss: 0.1576\n",
            "Epoch 2/50\n",
            "19/19 [==============================] - 11s 573ms/step - loss: 0.1144 - val_loss: 0.1196\n",
            "Epoch 3/50\n",
            "19/19 [==============================] - 11s 576ms/step - loss: 0.1042 - val_loss: 0.1214\n",
            "Epoch 4/50\n",
            "19/19 [==============================] - 11s 574ms/step - loss: 0.1088 - val_loss: 0.1236\n",
            "Epoch 5/50\n",
            "19/19 [==============================] - 11s 576ms/step - loss: 0.1043 - val_loss: 0.1136\n",
            "Epoch 6/50\n",
            "19/19 [==============================] - 11s 574ms/step - loss: 0.0937 - val_loss: 0.0929\n",
            "Epoch 7/50\n",
            "19/19 [==============================] - 11s 576ms/step - loss: 0.0871 - val_loss: 0.0931\n",
            "Epoch 8/50\n",
            "19/19 [==============================] - 11s 575ms/step - loss: 0.0863 - val_loss: 0.0856\n",
            "Epoch 9/50\n",
            "19/19 [==============================] - 11s 575ms/step - loss: 0.0813 - val_loss: 0.0857\n",
            "Epoch 10/50\n",
            "19/19 [==============================] - 11s 576ms/step - loss: 0.0796 - val_loss: 0.0858\n",
            "Epoch 11/50\n",
            "19/19 [==============================] - 11s 577ms/step - loss: 0.0790 - val_loss: 0.0874\n",
            "Epoch 12/50\n",
            "19/19 [==============================] - 11s 575ms/step - loss: 0.0782 - val_loss: 0.0893\n",
            "Epoch 13/50\n",
            "19/19 [==============================] - 11s 577ms/step - loss: 0.0778 - val_loss: 0.0831\n",
            "Epoch 14/50\n",
            "19/19 [==============================] - 11s 576ms/step - loss: 0.0777 - val_loss: 0.0799\n",
            "Epoch 15/50\n",
            "19/19 [==============================] - 11s 575ms/step - loss: 0.0767 - val_loss: 0.0804\n",
            "Epoch 16/50\n",
            "19/19 [==============================] - 11s 577ms/step - loss: 0.0747 - val_loss: 0.0775\n",
            "Epoch 17/50\n",
            "19/19 [==============================] - 11s 576ms/step - loss: 0.0753 - val_loss: 0.0799\n",
            "Epoch 18/50\n",
            "19/19 [==============================] - 11s 577ms/step - loss: 0.0751 - val_loss: 0.0746\n",
            "Epoch 19/50\n",
            "19/19 [==============================] - 11s 576ms/step - loss: 0.0734 - val_loss: 0.0780\n",
            "Epoch 20/50\n",
            "19/19 [==============================] - 11s 576ms/step - loss: 0.0730 - val_loss: 0.0727\n",
            "Epoch 21/50\n",
            "19/19 [==============================] - 11s 575ms/step - loss: 0.0713 - val_loss: 0.0709\n",
            "Epoch 22/50\n",
            "19/19 [==============================] - 11s 576ms/step - loss: 0.0706 - val_loss: 0.0738\n",
            "Epoch 23/50\n",
            "19/19 [==============================] - 11s 575ms/step - loss: 0.0717 - val_loss: 0.0784\n",
            "Epoch 24/50\n",
            "19/19 [==============================] - 11s 576ms/step - loss: 0.0728 - val_loss: 0.0737\n",
            "Epoch 25/50\n",
            "19/19 [==============================] - 11s 577ms/step - loss: 0.0703 - val_loss: 0.0756\n",
            "Epoch 26/50\n",
            "19/19 [==============================] - 11s 577ms/step - loss: 0.0725 - val_loss: 0.0751\n",
            "Epoch 27/50\n",
            "19/19 [==============================] - 11s 576ms/step - loss: 0.0721 - val_loss: 0.0728\n",
            "Epoch 28/50\n",
            "19/19 [==============================] - 11s 577ms/step - loss: 0.0701 - val_loss: 0.0789\n",
            "Epoch 29/50\n",
            "19/19 [==============================] - 11s 578ms/step - loss: 0.0704 - val_loss: 0.0776\n",
            "Epoch 30/50\n",
            "19/19 [==============================] - 11s 577ms/step - loss: 0.0692 - val_loss: 0.0701\n",
            "Epoch 31/50\n",
            "19/19 [==============================] - 11s 578ms/step - loss: 0.0682 - val_loss: 0.0708\n",
            "Epoch 32/50\n",
            "19/19 [==============================] - 11s 577ms/step - loss: 0.0678 - val_loss: 0.0696\n",
            "Epoch 33/50\n",
            "19/19 [==============================] - 11s 576ms/step - loss: 0.0684 - val_loss: 0.0729\n",
            "Epoch 34/50\n",
            "19/19 [==============================] - 11s 577ms/step - loss: 0.0682 - val_loss: 0.0726\n",
            "Epoch 35/50\n",
            "19/19 [==============================] - 11s 577ms/step - loss: 0.0669 - val_loss: 0.0735\n",
            "Epoch 36/50\n",
            "19/19 [==============================] - 11s 576ms/step - loss: 0.0666 - val_loss: 0.0700\n",
            "Epoch 37/50\n",
            "19/19 [==============================] - 11s 578ms/step - loss: 0.0650 - val_loss: 0.0686\n",
            "Epoch 38/50\n",
            "19/19 [==============================] - 11s 576ms/step - loss: 0.0647 - val_loss: 0.0747\n",
            "Epoch 39/50\n",
            "19/19 [==============================] - 11s 577ms/step - loss: 0.0666 - val_loss: 0.0699\n",
            "Epoch 40/50\n",
            "19/19 [==============================] - 11s 577ms/step - loss: 0.0662 - val_loss: 0.0688\n",
            "Epoch 41/50\n",
            "19/19 [==============================] - 11s 577ms/step - loss: 0.0647 - val_loss: 0.0680\n",
            "Epoch 42/50\n",
            "19/19 [==============================] - 11s 576ms/step - loss: 0.0638 - val_loss: 0.0706\n",
            "Epoch 43/50\n",
            "19/19 [==============================] - 11s 577ms/step - loss: 0.0628 - val_loss: 0.0657\n",
            "Epoch 44/50\n",
            "19/19 [==============================] - 11s 576ms/step - loss: 0.0652 - val_loss: 0.0702\n",
            "Epoch 45/50\n",
            "19/19 [==============================] - 11s 578ms/step - loss: 0.0655 - val_loss: 0.0672\n",
            "Epoch 46/50\n",
            "19/19 [==============================] - 11s 577ms/step - loss: 0.0651 - val_loss: 0.0711\n",
            "Epoch 47/50\n",
            "19/19 [==============================] - 11s 577ms/step - loss: 0.0623 - val_loss: 0.0672\n",
            "Epoch 48/50\n",
            "19/19 [==============================] - 11s 578ms/step - loss: 0.0608 - val_loss: 0.0653\n",
            "Epoch 49/50\n",
            "19/19 [==============================] - 11s 577ms/step - loss: 0.0611 - val_loss: 0.0695\n",
            "Epoch 50/50\n",
            "19/19 [==============================] - 11s 576ms/step - loss: 0.0618 - val_loss: 0.0712\n"
          ],
          "name": "stdout"
        }
      ]
    },
    {
      "cell_type": "code",
      "metadata": {
        "_kg_hide-input": true,
        "id": "deueZTLdUzCE",
        "outputId": "f91d8e88-22e5-49e7-95db-b9b133b2008a",
        "colab": {
          "base_uri": "https://localhost:8080/",
          "height": 281
        }
      },
      "source": [
        "def plot_loss_history(history):\n",
        "    # validation losses\n",
        "    val_loss = history.history['val_loss']\n",
        "    loss = history.history['loss']\n",
        "\n",
        "    plt.title('Loss')\n",
        "    plt.plot(val_loss, 'r', loss, 'b')\n",
        "    plt.show()\n",
        "    \n",
        "plot_loss_history(history)"
      ],
      "execution_count": 18,
      "outputs": [
        {
          "output_type": "display_data",
          "data": {
            "image/png": "[encoded data removed]",
            "text/plain": [
              "<Figure size 432x288 with 1 Axes>"
            ]
          },
          "metadata": {
            "tags": [],
            "needs_background": "light"
          }
        }
      ]
    },
    {
      "cell_type": "code",
      "metadata": {
        "id": "1q1cUn0Ammvp"
      },
      "source": [
        "model.save(PATH_GDRIVE + 'models/' + 'keras_unet_baseline.h5')"
      ],
      "execution_count": 23,
      "outputs": []
    },
    {
      "cell_type": "markdown",
      "metadata": {
        "id": "RbJnrXIKUzCH"
      },
      "source": [
        "# 3. Make predictions"
      ]
    },
    {
      "cell_type": "code",
      "metadata": {
        "id": "JyFbYU8TUzCI"
      },
      "source": [
        "# Use model to predict train labels\n",
        "model = load_model('keras_unet.h5',)\n",
        "Y_predict = model.predict(X_train, verbose=1)\n",
        "Y_predict.shape"
      ],
      "execution_count": null,
      "outputs": []
    },
    {
      "cell_type": "code",
      "metadata": {
        "_kg_hide-input": true,
        "id": "oVg3NSg_UzCK",
        "outputId": "02cdde04-ad33-4916-f2d7-6da69bba13a8",
        "colab": {
          "base_uri": "https://localhost:8080/",
          "height": 817
        }
      },
      "source": [
        "# Check predict data\n",
        "f, axarr = plt.subplots(2,3)\n",
        "f.set_size_inches(20,10)\n",
        "ix = random.randint(0, len(train_ids[1]))\n",
        "axarr[0,0].imshow(X_train[ix])\n",
        "axarr[0,0].set_title('Microscope')\n",
        "axarr[0,1].imshow(np.squeeze(Y_predict[ix]))\n",
        "axarr[0,1].set_title('\"Predicted\" Masks')\n",
        "axarr[0,2].imshow(np.squeeze(Y_train[ix]))\n",
        "axarr[0,2].set_title('\"GroundTruth\" Masks')\n",
        "\n",
        "axarr[1,0].imshow(X_train[ix])\n",
        "axarr[1,0].set_title('Microscope')\n",
        "axarr[1,1].imshow(np.squeeze(Y_predict[ix]))\n",
        "axarr[1,1].set_title('\"Predicted\" Masks')\n",
        "axarr[1,2].imshow(np.squeeze(Y_train[ix]))\n",
        "axarr[1,2].set_title('\"GroundTruth\" Masks')\n",
        "\n",
        "plt.show()"
      ],
      "execution_count": 25,
      "outputs": [
        {
          "output_type": "error",
          "ename": "NameError",
          "evalue": "ignored",
          "traceback": [
            "\u001b[0;31m---------------------------------------------------------------------------\u001b[0m",
            "\u001b[0;31mNameError\u001b[0m                                 Traceback (most recent call last)",
            "\u001b[0;32m<ipython-input-25-ee5db4e199c5>\u001b[0m in \u001b[0;36m<module>\u001b[0;34m()\u001b[0m\n\u001b[1;32m      2\u001b[0m \u001b[0mf\u001b[0m\u001b[0;34m,\u001b[0m \u001b[0maxarr\u001b[0m \u001b[0;34m=\u001b[0m \u001b[0mplt\u001b[0m\u001b[0;34m.\u001b[0m\u001b[0msubplots\u001b[0m\u001b[0;34m(\u001b[0m\u001b[0;36m2\u001b[0m\u001b[0;34m,\u001b[0m\u001b[0;36m3\u001b[0m\u001b[0;34m)\u001b[0m\u001b[0;34m\u001b[0m\u001b[0;34m\u001b[0m\u001b[0m\n\u001b[1;32m      3\u001b[0m \u001b[0mf\u001b[0m\u001b[0;34m.\u001b[0m\u001b[0mset_size_inches\u001b[0m\u001b[0;34m(\u001b[0m\u001b[0;36m20\u001b[0m\u001b[0;34m,\u001b[0m\u001b[0;36m10\u001b[0m\u001b[0;34m)\u001b[0m\u001b[0;34m\u001b[0m\u001b[0;34m\u001b[0m\u001b[0m\n\u001b[0;32m----> 4\u001b[0;31m \u001b[0mix\u001b[0m \u001b[0;34m=\u001b[0m \u001b[0mrandom\u001b[0m\u001b[0;34m.\u001b[0m\u001b[0mrandint\u001b[0m\u001b[0;34m(\u001b[0m\u001b[0;36m0\u001b[0m\u001b[0;34m,\u001b[0m \u001b[0mlen\u001b[0m\u001b[0;34m(\u001b[0m\u001b[0mtrain_ids\u001b[0m\u001b[0;34m[\u001b[0m\u001b[0;36m1\u001b[0m\u001b[0;34m]\u001b[0m\u001b[0;34m)\u001b[0m\u001b[0;34m)\u001b[0m\u001b[0;34m\u001b[0m\u001b[0;34m\u001b[0m\u001b[0m\n\u001b[0m\u001b[1;32m      5\u001b[0m \u001b[0maxarr\u001b[0m\u001b[0;34m[\u001b[0m\u001b[0;36m0\u001b[0m\u001b[0;34m,\u001b[0m\u001b[0;36m0\u001b[0m\u001b[0;34m]\u001b[0m\u001b[0;34m.\u001b[0m\u001b[0mimshow\u001b[0m\u001b[0;34m(\u001b[0m\u001b[0mX_train\u001b[0m\u001b[0;34m[\u001b[0m\u001b[0mix\u001b[0m\u001b[0;34m]\u001b[0m\u001b[0;34m)\u001b[0m\u001b[0;34m\u001b[0m\u001b[0;34m\u001b[0m\u001b[0m\n\u001b[1;32m      6\u001b[0m \u001b[0maxarr\u001b[0m\u001b[0;34m[\u001b[0m\u001b[0;36m0\u001b[0m\u001b[0;34m,\u001b[0m\u001b[0;36m0\u001b[0m\u001b[0;34m]\u001b[0m\u001b[0;34m.\u001b[0m\u001b[0mset_title\u001b[0m\u001b[0;34m(\u001b[0m\u001b[0;34m'Microscope'\u001b[0m\u001b[0;34m)\u001b[0m\u001b[0;34m\u001b[0m\u001b[0;34m\u001b[0m\u001b[0m\n",
            "\u001b[0;31mNameError\u001b[0m: name 'train_ids' is not defined"
          ]
        },
        {
          "output_type": "display_data",
          "data": {
            "image/png": "[encoded data removed]",
            "text/plain": [
              "<Figure size 1440x720 with 6 Axes>"
            ]
          },
          "metadata": {
            "tags": [],
            "needs_background": "light"
          }
        }
      ]
    },
    {
      "cell_type": "markdown",
      "metadata": {
        "id": "F_dYkVymUzCM"
      },
      "source": [
        "Смотриться хорошо"
      ]
    },
    {
      "cell_type": "code",
      "metadata": {
        "id": "F5DLrHTfUzCN",
        "outputId": "51c9f3dc-8d14-4e01-bf32-c5121319f70e"
      },
      "source": [
        "# Get test data\n",
        "X_test = get_X_data(TEST_PATH, output_shape=(IMG_HEIGHT,IMG_WIDTH))\n",
        "\n",
        "# Use model to predict test labels\n",
        "Y_hat = model.predict(X_test, verbose=1)\n",
        "Y_hat.shape"
      ],
      "execution_count": null,
      "outputs": [
        {
          "output_type": "stream",
          "text": [
            "65/65 [==============================] - 0s 5ms/step\n"
          ],
          "name": "stdout"
        },
        {
          "output_type": "execute_result",
          "data": {
            "text/plain": [
              "(65, 256, 256, 1)"
            ]
          },
          "metadata": {
            "tags": []
          },
          "execution_count": 23
        }
      ]
    },
    {
      "cell_type": "code",
      "metadata": {
        "_kg_hide-input": true,
        "id": "LWGf4Z6jUzCP",
        "outputId": "3cd0853e-b1ac-4425-80c5-fcc294ac6e11"
      },
      "source": [
        "idx = random.randint(0, len(test_ids[1]))\n",
        "print(X_test[idx].shape)\n",
        "skimage.io.imshow(X_test[idx])\n",
        "plt.show()\n",
        "skimage.io.imshow(Y_hat[idx][:,:,0])\n",
        "plt.show()"
      ],
      "execution_count": null,
      "outputs": [
        {
          "output_type": "stream",
          "text": [
            "(256, 256, 3)\n"
          ],
          "name": "stdout"
        },
        {
          "output_type": "display_data",
          "data": {
            "image/png": "[encoded data removed]",
            "text/plain": [
              "<Figure size 432x288 with 1 Axes>"
            ]
          },
          "metadata": {
            "tags": [],
            "needs_background": "light"
          }
        },
        {
          "output_type": "display_data",
          "data": {
            "image/png": "[encoded data removed]",
            "text/plain": [
              "<Figure size 432x288 with 1 Axes>"
            ]
          },
          "metadata": {
            "tags": [],
            "needs_background": "light"
          }
        }
      ]
    },
    {
      "cell_type": "markdown",
      "metadata": {
        "id": "XM4yLKUkUzCS"
      },
      "source": [
        "# 4. Encode and Submit"
      ]
    },
    {
      "cell_type": "code",
      "metadata": {
        "_kg_hide-input": true,
        "id": "rq-n6pYYUzCT"
      },
      "source": [
        "# Run-length encoding stolen from https://www.kaggle.com/rakhlin/fast-run-length-encoding-python\n",
        "def rle_encoding(x):\n",
        "    dots = np.where(x.T.flatten() == 1)[0]\n",
        "    run_lengths = []\n",
        "    prev = -2\n",
        "    for b in dots:\n",
        "        if (b>prev+1): run_lengths.extend((b + 1, 0))\n",
        "        run_lengths[-1] += 1\n",
        "        prev = b\n",
        "    return run_lengths\n",
        "\n",
        "def prob_to_rles(x, cutoff=0.5):\n",
        "    lab_img = label(x > cutoff)\n",
        "    for i in range(1, lab_img.max() + 1):\n",
        "        yield rle_encoding(lab_img == i)"
      ],
      "execution_count": null,
      "outputs": []
    },
    {
      "cell_type": "markdown",
      "metadata": {
        "id": "HG6zg-JNUzCV"
      },
      "source": [
        "мы ресайзили картинку до 256х256, но чтоб верно предсказать, нам нужно сделать маску под размер изначальной картинки"
      ]
    },
    {
      "cell_type": "code",
      "metadata": {
        "id": "BoK7Kq6gUzCW",
        "outputId": "cd308a32-72b9-44b4-c69b-7d30575fef62"
      },
      "source": [
        "# Upsample Y_hat back to the original X_test size (height and width)\n",
        "Y_hat_upsampled = []\n",
        "for i, test_id in enumerate(os.listdir(TEST_PATH)):  #loop through test_ids in the test_path\n",
        "    img = skimage.io.imread('{0}/{1}/images/{1}.png'.format(TEST_PATH, test_id))  #read original test image directly from path\n",
        "    img_upscaled = skimage.transform.resize(Y_hat[i], (img.shape[0], img.shape[1]), mode='constant', preserve_range=True)  #upscale Y_hat image according to original test image\n",
        "    Y_hat_upsampled.append(img_upscaled)   #append upscaled image to Y_hat_upsampled\n",
        "len(Y_hat_upsampled)"
      ],
      "execution_count": null,
      "outputs": [
        {
          "output_type": "execute_result",
          "data": {
            "text/plain": [
              "65"
            ]
          },
          "metadata": {
            "tags": []
          },
          "execution_count": 26
        }
      ]
    },
    {
      "cell_type": "markdown",
      "metadata": {
        "id": "i58exiZrUzCa"
      },
      "source": [
        "Осталось закодировать нашу маску"
      ]
    },
    {
      "cell_type": "code",
      "metadata": {
        "id": "kmjP5qJlUzCb",
        "outputId": "de401b0c-065f-4478-99b6-c1504f62f69f"
      },
      "source": [
        "# Apply Run-Length Encoding on our Y_hat_upscaled\n",
        "new_test_ids = []\n",
        "rles = []\n",
        "for n, id_ in enumerate(os.listdir(TEST_PATH)):\n",
        "    rle = list(prob_to_rles(Y_hat_upsampled[n]))\n",
        "    rles.extend(rle)\n",
        "    new_test_ids.extend([id_] * len(rle))\n",
        "len(new_test_ids)  #note that for each test_image, we can have multiple entries of encoded pixels"
      ],
      "execution_count": null,
      "outputs": [
        {
          "output_type": "execute_result",
          "data": {
            "text/plain": [
              "2230"
            ]
          },
          "metadata": {
            "tags": []
          },
          "execution_count": 27
        }
      ]
    },
    {
      "cell_type": "code",
      "metadata": {
        "id": "9gH7vE7EUzCd"
      },
      "source": [
        "# Create submission DataFrame\n",
        "sub = pd.DataFrame()\n",
        "sub['ImageId'] = new_test_ids\n",
        "sub['EncodedPixels'] = pd.Series(rles).apply(lambda x: ' '.join(str(y) for y in x))\n",
        "sub.to_csv('submission.csv', index=False)"
      ],
      "execution_count": null,
      "outputs": []
    },
    {
      "cell_type": "code",
      "metadata": {
        "id": "qI-cXLRNUzCg",
        "outputId": "bf1e8df6-32ba-405e-8f93-bd138e0e5f41"
      },
      "source": [
        "sub.head()"
      ],
      "execution_count": null,
      "outputs": [
        {
          "output_type": "execute_result",
          "data": {
            "text/html": [
              "<div>\n",
              "<style scoped>\n",
              "    .dataframe tbody tr th:only-of-type {\n",
              "        vertical-align: middle;\n",
              "    }\n",
              "\n",
              "    .dataframe tbody tr th {\n",
              "        vertical-align: top;\n",
              "    }\n",
              "\n",
              "    .dataframe thead th {\n",
              "        text-align: right;\n",
              "    }\n",
              "</style>\n",
              "<table border=\"1\" class=\"dataframe\">\n",
              "  <thead>\n",
              "    <tr style=\"text-align: right;\">\n",
              "      <th></th>\n",
              "      <th>ImageId</th>\n",
              "      <th>EncodedPixels</th>\n",
              "    </tr>\n",
              "  </thead>\n",
              "  <tbody>\n",
              "    <tr>\n",
              "      <th>0</th>\n",
              "      <td>eea70a7948d25a9a791dbcb39228af4ea4049fe5ebdee9...</td>\n",
              "      <td>1 29 520 30 1039 29 1558 26 2077 21 2596 15 31...</td>\n",
              "    </tr>\n",
              "    <tr>\n",
              "      <th>1</th>\n",
              "      <td>eea70a7948d25a9a791dbcb39228af4ea4049fe5ebdee9...</td>\n",
              "      <td>44 29 562 31 1080 32 1598 33 2117 33 2636 34 3...</td>\n",
              "    </tr>\n",
              "    <tr>\n",
              "      <th>2</th>\n",
              "      <td>eea70a7948d25a9a791dbcb39228af4ea4049fe5ebdee9...</td>\n",
              "      <td>170 23 688 25 1207 25 1725 26 2244 26 2762 27 ...</td>\n",
              "    </tr>\n",
              "    <tr>\n",
              "      <th>3</th>\n",
              "      <td>eea70a7948d25a9a791dbcb39228af4ea4049fe5ebdee9...</td>\n",
              "      <td>407 47 926 50 1445 52 1965 54 2485 55 3005 55 ...</td>\n",
              "    </tr>\n",
              "    <tr>\n",
              "      <th>4</th>\n",
              "      <td>eea70a7948d25a9a791dbcb39228af4ea4049fe5ebdee9...</td>\n",
              "      <td>4553 5 5070 8 5588 10 6105 12 6623 14 7141 15 ...</td>\n",
              "    </tr>\n",
              "  </tbody>\n",
              "</table>\n",
              "</div>"
            ],
            "text/plain": [
              "                                             ImageId  \\\n",
              "0  eea70a7948d25a9a791dbcb39228af4ea4049fe5ebdee9...   \n",
              "1  eea70a7948d25a9a791dbcb39228af4ea4049fe5ebdee9...   \n",
              "2  eea70a7948d25a9a791dbcb39228af4ea4049fe5ebdee9...   \n",
              "3  eea70a7948d25a9a791dbcb39228af4ea4049fe5ebdee9...   \n",
              "4  eea70a7948d25a9a791dbcb39228af4ea4049fe5ebdee9...   \n",
              "\n",
              "                                       EncodedPixels  \n",
              "0  1 29 520 30 1039 29 1558 26 2077 21 2596 15 31...  \n",
              "1  44 29 562 31 1080 32 1598 33 2117 33 2636 34 3...  \n",
              "2  170 23 688 25 1207 25 1725 26 2244 26 2762 27 ...  \n",
              "3  407 47 926 50 1445 52 1965 54 2485 55 3005 55 ...  \n",
              "4  4553 5 5070 8 5588 10 6105 12 6623 14 7141 15 ...  "
            ]
          },
          "metadata": {
            "tags": []
          },
          "execution_count": 29
        }
      ]
    },
    {
      "cell_type": "code",
      "metadata": {
        "id": "OLOfsWeRUzCi",
        "outputId": "414215eb-81c0-4c60-933b-6284e5ac8559"
      },
      "source": [
        "len(sub)"
      ],
      "execution_count": null,
      "outputs": [
        {
          "output_type": "execute_result",
          "data": {
            "text/plain": [
              "2230"
            ]
          },
          "metadata": {
            "tags": []
          },
          "execution_count": 30
        }
      ]
    },
    {
      "cell_type": "code",
      "metadata": {
        "_kg_hide-input": true,
        "id": "IoSaCGQ9UzCk"
      },
      "source": [
        "# Clean Folder\n",
        "import shutil\n",
        "shutil.rmtree('train')\n",
        "shutil.rmtree('test')"
      ],
      "execution_count": null,
      "outputs": []
    },
    {
      "cell_type": "markdown",
      "metadata": {
        "id": "JgzjkfT3UzCm"
      },
      "source": [
        "Готово!\n",
        "\n",
        "## Что можно сделать, чтоб улучшить результат:\n",
        "* Подобрать LR, optimizer, loss\n",
        "* Добавить свою метрику (для сегментации loss не лучшая метрика) и callbacks по ней\n",
        "* Поставить и подобрать Threshold для predictions\n",
        "* Добавить аугментацию\n",
        "* Поиграться с архитектурой\n",
        "* Подобрать другие переменные (размер картинки, батч и тп)\n",
        "* Добавить политику обучения\n",
        "* Добавить TTA\n",
        "* Найти и обучиться на других внешних данных\n",
        "* Построить ансамбль из разных архитектур\n",
        "\n",
        "Удачи в соревновании!"
      ]
    }
  ]
}